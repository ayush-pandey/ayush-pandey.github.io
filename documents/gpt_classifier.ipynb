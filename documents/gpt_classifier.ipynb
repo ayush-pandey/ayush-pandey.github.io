{
 "cells": [
  {
   "cell_type": "code",
   "execution_count": 18,
   "metadata": {},
   "outputs": [
    {
     "name": "stdout",
     "output_type": "stream",
     "text": [
      "Comments have been classified and saved to classified_comments.json.\n"
     ]
    }
   ],
   "source": [
    "import json\n",
    "import os\n",
    "from openai import OpenAI\n",
    "\n",
    "# Requires an API key to be set as an environment variable! :$it's a secret$: \n",
    "# All comments are in this file\n",
    "with open('unclassified_comments.json', 'r') as file:\n",
    "    data = json.load(file)\n",
    "    comments = data['comments']\n",
    "\n",
    "# Examples of positive and negative comments for few-shot learning\n",
    "positive_examples = [\n",
    "    \"The instructor had extremely fair grading and opportunities to achieve the maximum credit possible on assignments. Additionally, the professor ensured that a student taking the course could succeed by providing ample time for office hours and access to lecture slides.\",\n",
    "    \"I enjoyed the way he has structured his class online and in person class. He teaches and then does engaging activities relating to the topic. Not only that, he's great engaging with us! He tries to learn our names and always makes sure we are doing well.\", \n",
    "    \"The professor was flexible with due dates\",\n",
    "    \"Gives many opportunities to do do work and understand what we are doing \"\n",
    "]\n",
    "negative_examples = [\n",
    "    \"go over problems and codes so people can see more about it\",\n",
    "    \"The most helpful for learning in this class was when we had to work with others in class, I think it would have gone more smoothly though if others were more open to interacting with classmates. \",\n",
    "    \"The course was mainly based off of coursework done through ZyBooks. The instructor did not do much bedsides introduce the basic concept for the week and discuss deadlines in regards to project materials.\",\n",
    "    \"I would like if the course was a little slower.\"\n",
    "]\n",
    "\n",
    "# The classifier function\n",
    "def classify_comment(comment):\n",
    "    prompt = \"\\n\".join(\n",
    "        [f\"Comment: {example}\\nClassification: Positive\" for example in positive_examples] +\n",
    "        [f\"Comment: {example}\\nClassification: Negative\" for example in negative_examples]\n",
    "        # [f\"Comment: {comment}\\nClassification:\"]\n",
    "    )\n",
    "    \n",
    "    response = OpenAI().chat.completions.create(\n",
    "        model=\"gpt-3.5-turbo\",\n",
    "        messages=[\n",
    "            {\n",
    "                \"role\": \"system\",\n",
    "                \"content\": prompt,\n",
    "            },\n",
    "            {\n",
    "                \"role\":\"user\",\n",
    "                \"content\":f\"Comment: {comment}\\nClassification:\"\n",
    "            }\n",
    "        ],\n",
    "        max_tokens=1\n",
    "    )\n",
    "    return response\n",
    "\n",
    "# Classify each comment and store\n",
    "classified_comments = {'positive_comments': [], 'negative_comments': []}\n",
    "\n",
    "for comment in comments:\n",
    "    response = classify_comment(comment)\n",
    "    classification = response.choices[0].message.content\n",
    "    if classification.lower() == 'positive':\n",
    "        classified_comments['positive_comments'].append(comment)\n",
    "    else:\n",
    "        classified_comments['negative_comments'].append(comment)\n",
    "\n",
    "# Save a new JSON file\n",
    "with open('classified_comments.json', 'w') as file:\n",
    "    json.dump(classified_comments, file, indent=4)\n",
    "\n",
    "print(\"Comments have been classified and saved to classified_comments.json.\")\n"
   ]
  }
 ],
 "metadata": {
  "kernelspec": {
   "display_name": "base",
   "language": "python",
   "name": "python3"
  },
  "language_info": {
   "codemirror_mode": {
    "name": "ipython",
    "version": 3
   },
   "file_extension": ".py",
   "mimetype": "text/x-python",
   "name": "python",
   "nbconvert_exporter": "python",
   "pygments_lexer": "ipython3",
   "version": "3.11.5"
  }
 },
 "nbformat": 4,
 "nbformat_minor": 2
}
